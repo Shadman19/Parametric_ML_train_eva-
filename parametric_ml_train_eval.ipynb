{
 "cells": [
  {
   "cell_type": "code",
   "execution_count": 27,
   "id": "baf578af-a897-418f-9cdd-12a22c8cedcb",
   "metadata": {},
   "outputs": [
    {
     "name": "stdin",
     "output_type": "stream",
     "text": [
      "Enter a dataset name from torchvision:  CIFAR10\n",
      "Enter batch size:  32\n"
     ]
    },
    {
     "name": "stdout",
     "output_type": "stream",
     "text": [
      "Files already downloaded and verified\n",
      "Successfully loaded CIFAR10 train dataset.\n",
      "Files already downloaded and verified\n",
      "Successfully loaded CIFAR10 test dataset.\n",
      "Loaded a batch of size: 32\n"
     ]
    },
    {
     "data": {
      "image/png": "[encoded data removed]",
      "text/plain": [
       "<Figure size 1200x400 with 4 Axes>"
      ]
     },
     "metadata": {},
     "output_type": "display_data"
    },
    {
     "name": "stdin",
     "output_type": "stream",
     "text": [
      "Enter a model name from torchvision:  resnet18\n"
     ]
    },
    {
     "name": "stdout",
     "output_type": "stream",
     "text": [
      "Successfully loaded resnet18 model.\n",
      "Model resnet18 is ready to be used.\n"
     ]
    },
    {
     "name": "stdin",
     "output_type": "stream",
     "text": [
      "Enter the number of epochs:  2\n",
      "Enter the learning rate:  0.01\n",
      "Enable verbose output? (yes/no):  yes\n"
     ]
    },
    {
     "name": "stdout",
     "output_type": "stream",
     "text": [
      "Using device: cuda\n"
     ]
    },
    {
     "name": "stderr",
     "output_type": "stream",
     "text": [
      "                                                                         \r"
     ]
    },
    {
     "name": "stdout",
     "output_type": "stream",
     "text": [
      "Epoch 1/2, Loss: 1.8935\n"
     ]
    },
    {
     "name": "stderr",
     "output_type": "stream",
     "text": [
      "                                                                         \r"
     ]
    },
    {
     "name": "stdout",
     "output_type": "stream",
     "text": [
      "Epoch 2/2, Loss: 1.3033\n"
     ]
    },
    {
     "name": "stderr",
     "output_type": "stream",
     "text": [
      "                                                              "
     ]
    },
    {
     "name": "stdout",
     "output_type": "stream",
     "text": [
      "Test Loss: 1.3584, Test Accuracy: 52.17%\n"
     ]
    },
    {
     "name": "stderr",
     "output_type": "stream",
     "text": [
      "\r"
     ]
    }
   ],
   "source": [
    "import torchvision.datasets as datasets\n",
    "import torchvision.models as models\n",
    "import torch.utils.data\n",
    "import torchvision.transforms as transforms\n",
    "import torch.optim as optim\n",
    "import torch.nn as nn\n",
    "import torch\n",
    "import difflib\n",
    "import inspect\n",
    "from tqdm import tqdm\n",
    "import matplotlib.pyplot as plt\n",
    "import numpy as np\n",
    "\n",
    "# Dynamically get a list of all available datasets in torchvision\n",
    "def get_available_datasets():\n",
    "    dataset_classes = []\n",
    "    for name, obj in inspect.getmembers(datasets):\n",
    "        if inspect.isclass(obj) and issubclass(obj, torch.utils.data.Dataset):\n",
    "            dataset_classes.append(name)\n",
    "    return dataset_classes\n",
    "\n",
    "# Dynamically get a list of all available models in torchvision\n",
    "def get_available_models():\n",
    "    model_classes = []\n",
    "    for name, obj in inspect.getmembers(models):\n",
    "        if inspect.isfunction(obj):\n",
    "            model_classes.append(name)\n",
    "    return model_classes\n",
    "\n",
    "available_datasets = get_available_datasets()\n",
    "available_models = get_available_models()\n",
    "\n",
    "# Define a set of transformations, including converting images to tensors\n",
    "transform = transforms.Compose([transforms.ToTensor()])\n",
    "\n",
    "# Function to get dataset with robust error handling\n",
    "def get_dataset(dataset_name, root='./data', batch_size=4, shuffle=True, num_workers=2, train=True):\n",
    "    try:\n",
    "        if dataset_name in available_datasets:\n",
    "            dataset_class = getattr(datasets, dataset_name)\n",
    "            dataset_instance = dataset_class(root=root, download=True, train=train, transform=transform)\n",
    "            data_loader = torch.utils.data.DataLoader(dataset_instance, \n",
    "                                                      batch_size=batch_size, \n",
    "                                                      shuffle=shuffle, \n",
    "                                                      num_workers=num_workers)\n",
    "            print(f\"Successfully loaded {dataset_name} {'train' if train else 'test'} dataset.\")\n",
    "            return data_loader\n",
    "        else:\n",
    "            close_matches = difflib.get_close_matches(dataset_name, available_datasets, n=3)\n",
    "            if close_matches:\n",
    "                print(f\"Dataset '{dataset_name}' not found. Did you mean one of these?\")\n",
    "                for match in close_matches:\n",
    "                    print(f\"  - {match}\")\n",
    "                selected_suggestion = input(f\"Would you like to load the dataset '{close_matches[0]}'? (yes/no): \").lower()\n",
    "                if selected_suggestion == 'yes':\n",
    "                    return get_dataset(close_matches[0], root, batch_size, shuffle, num_workers, train)\n",
    "            else:\n",
    "                print(f\"Dataset '{dataset_name}' not found. No close matches available.\")\n",
    "    except Exception as e:\n",
    "        print(f\"Error loading dataset: {e}\")\n",
    "    return None\n",
    "\n",
    "# Function to get model with robust error handling\n",
    "def get_model(model_name, pretrained=True):\n",
    "    try:\n",
    "        if model_name in available_models:\n",
    "            model_class = getattr(models, model_name)\n",
    "            model_instance = model_class(pretrained=pretrained)\n",
    "            print(f\"Successfully loaded {model_name} model.\")\n",
    "            return model_instance\n",
    "        else:\n",
    "            close_matches = difflib.get_close_matches(model_name, available_models, n=3)\n",
    "            if close_matches:\n",
    "                print(f\"Model '{model_name}' not found. Did you mean one of these?\")\n",
    "                for match in close_matches:\n",
    "                    print(f\"  - {match}\")\n",
    "                selected_suggestion = input(f\"Would you like to load the model '{close_matches[0]}'? (yes/no): \").lower()\n",
    "                if selected_suggestion == 'yes':\n",
    "                    return get_model(close_matches[0], pretrained)\n",
    "            else:\n",
    "                print(f\"Model '{model_name}' not found. No close matches available.\")\n",
    "    except Exception as e:\n",
    "        print(f\"Error loading model: {e}\")\n",
    "    return None\n",
    "\n",
    "# Training loop\n",
    "def train_model(model, train_loader, criterion, optimizer, epochs, device, verbose=False):\n",
    "    model = model.to(device)\n",
    "    model.train()\n",
    "\n",
    "    for epoch in range(epochs):\n",
    "        running_loss = 0.0\n",
    "        epoch_iterator = tqdm(train_loader, desc=f\"Epoch {epoch+1}/{epochs}\", leave=False)\n",
    "        \n",
    "        for inputs, labels in epoch_iterator:\n",
    "            inputs, labels = inputs.to(device), labels.to(device)\n",
    "            \n",
    "            # Zero the parameter gradients\n",
    "            optimizer.zero_grad()\n",
    "\n",
    "            # Forward pass\n",
    "            outputs = model(inputs)\n",
    "            loss = criterion(outputs, labels)\n",
    "            \n",
    "            # Backward pass and optimization\n",
    "            loss.backward()\n",
    "            optimizer.step()\n",
    "\n",
    "            running_loss += loss.item()\n",
    "            epoch_iterator.set_postfix({'loss': running_loss / (epoch_iterator.n + 1)})\n",
    "\n",
    "        if verbose:\n",
    "            print(f\"Epoch {epoch+1}/{epochs}, Loss: {running_loss/len(train_loader):.4f}\")\n",
    "\n",
    "# Evaluation function\n",
    "def evaluate_model(model, test_loader, criterion, device):\n",
    "    model = model.to(device)\n",
    "    model.eval()\n",
    "    \n",
    "    running_loss = 0.0\n",
    "    correct = 0\n",
    "    total = 0\n",
    "\n",
    "    with torch.no_grad():\n",
    "        for inputs, labels in tqdm(test_loader, desc=\"Evaluating\", leave=False):\n",
    "            inputs, labels = inputs.to(device), labels.to(device)\n",
    "            \n",
    "            # Forward pass\n",
    "            outputs = model(inputs)\n",
    "            loss = criterion(outputs, labels)\n",
    "            running_loss += loss.item()\n",
    "\n",
    "            # Calculate accuracy\n",
    "            _, predicted = torch.max(outputs, 1)\n",
    "            total += labels.size(0)\n",
    "            correct += (predicted == labels).sum().item()\n",
    "\n",
    "    avg_loss = running_loss / len(test_loader)\n",
    "    accuracy = correct / total * 100\n",
    "    print(f\"Test Loss: {avg_loss:.4f}, Test Accuracy: {accuracy:.2f}%\")\n",
    "\n",
    "# Function to display a grid of images from the dataset\n",
    "def show_images(images, labels):\n",
    "    try:\n",
    "        images = images.numpy()\n",
    "        fig, axes = plt.subplots(1, len(images), figsize=(12, 4))\n",
    "        for i, (image, label) in enumerate(zip(images, labels)):\n",
    "            image = np.transpose(image, (1, 2, 0))\n",
    "            image = np.clip(image, 0, 1)\n",
    "            axes[i].imshow(image)\n",
    "            axes[i].set_title(f\"Label: {label}\")\n",
    "            axes[i].axis('off')\n",
    "        plt.show()\n",
    "    except Exception as e:\n",
    "        print(f\"Error displaying images: {e}\")\n",
    "\n",
    "# Main function to select dataset, model, and train\n",
    "def main():\n",
    "    try:\n",
    "        user_input_dataset = input(\"Enter a dataset name from torchvision: \")\n",
    "        batch_size = int(input(\"Enter batch size: \"))\n",
    "        \n",
    "        train_loader = get_dataset(user_input_dataset, batch_size=batch_size, train=True)\n",
    "        test_loader = get_dataset(user_input_dataset, batch_size=batch_size, train=False)\n",
    "\n",
    "        if train_loader:\n",
    "            for images, labels in train_loader:\n",
    "                print(f\"Loaded a batch of size: {len(images)}\")\n",
    "                show_images(images[:4], labels[:4])\n",
    "                break\n",
    "    \n",
    "        user_input_model = input(\"Enter a model name from torchvision: \")\n",
    "        model = get_model(user_input_model)\n",
    "\n",
    "        if model:\n",
    "            print(f\"Model {user_input_model} is ready to be used.\")\n",
    "\n",
    "        epochs = int(input(\"Enter the number of epochs: \"))\n",
    "        learning_rate = float(input(\"Enter the learning rate: \"))\n",
    "        verbose = input(\"Enable verbose output? (yes/no): \").lower() == 'yes'\n",
    "\n",
    "        device = torch.device(\"cuda\" if torch.cuda.is_available() else \"cpu\")\n",
    "        print(f\"Using device: {device}\")\n",
    "\n",
    "        criterion = nn.CrossEntropyLoss()\n",
    "        optimizer = optim.Adam(model.parameters(), lr=learning_rate)\n",
    "\n",
    "        train_model(model, train_loader, criterion, optimizer, epochs, device, verbose)\n",
    "        evaluate_model(model, test_loader, criterion, device)\n",
    "    \n",
    "    except ValueError as ve:\n",
    "        print(f\"Input Error: {ve}\")\n",
    "    except Exception as e:\n",
    "        print(f\"An error occurred: {e}\")\n",
    "\n",
    "# Run the main function\n",
    "if __name__ == '__main__':\n",
    "    main()\n"
   ]
  },
  {
   "cell_type": "code",
   "execution_count": 28,
   "id": "6e92c35c-944a-477b-bead-287bb94453e3",
   "metadata": {},
   "outputs": [
    {
     "name": "stdin",
     "output_type": "stream",
     "text": [
      "Enter a dataset name from torchvision:  CIFAR10\n",
      "Enter batch size:  32\n"
     ]
    },
    {
     "name": "stdout",
     "output_type": "stream",
     "text": [
      "Files already downloaded and verified\n",
      "Successfully loaded CIFAR10 train dataset.\n",
      "Files already downloaded and verified\n",
      "Successfully loaded CIFAR10 test dataset.\n",
      "Loaded a batch of size: 32\n"
     ]
    },
    {
     "data": {
      "image/png": "[encoded data removed]",
      "text/plain": [
       "<Figure size 1200x400 with 4 Axes>"
      ]
     },
     "metadata": {},
     "output_type": "display_data"
    },
    {
     "name": "stdin",
     "output_type": "stream",
     "text": [
      "Enter a model name from torchvision:  resnet18\n"
     ]
    },
    {
     "name": "stdout",
     "output_type": "stream",
     "text": [
      "Successfully loaded resnet18 model.\n",
      "Model resnet18 is ready to be used.\n"
     ]
    },
    {
     "name": "stdin",
     "output_type": "stream",
     "text": [
      "Enter the number of epochs:  32\n",
      "Enter the learning rate:  .1\n",
      "Enter patience for early stopping:  10\n",
      "Enter minimum delta for improvement:  10\n",
      "Enable verbose output? (yes/no):  yes\n"
     ]
    },
    {
     "name": "stdout",
     "output_type": "stream",
     "text": [
      "Using device: cuda\n"
     ]
    },
    {
     "name": "stderr",
     "output_type": "stream",
     "text": [
      "                                                                                \r"
     ]
    },
    {
     "name": "stdout",
     "output_type": "stream",
     "text": [
      "Epoch 1/32, Validation Loss: 1.9796\n"
     ]
    },
    {
     "name": "stderr",
     "output_type": "stream",
     "text": [
      "                                                                                    \r"
     ]
    },
    {
     "name": "stdout",
     "output_type": "stream",
     "text": [
      "Epoch 2/32, Validation Loss: 66.5601\n"
     ]
    },
    {
     "name": "stderr",
     "output_type": "stream",
     "text": [
      "                                                                                \r"
     ]
    },
    {
     "name": "stdout",
     "output_type": "stream",
     "text": [
      "Epoch 3/32, Validation Loss: 17.9403\n"
     ]
    },
    {
     "name": "stderr",
     "output_type": "stream",
     "text": [
      "                                                                                \r"
     ]
    },
    {
     "name": "stdout",
     "output_type": "stream",
     "text": [
      "Epoch 4/32, Validation Loss: 16.8515\n"
     ]
    },
    {
     "name": "stderr",
     "output_type": "stream",
     "text": [
      "                                                                                \r"
     ]
    },
    {
     "name": "stdout",
     "output_type": "stream",
     "text": [
      "Epoch 5/32, Validation Loss: 2.4782\n"
     ]
    },
    {
     "name": "stderr",
     "output_type": "stream",
     "text": [
      "                                                                                \r"
     ]
    },
    {
     "name": "stdout",
     "output_type": "stream",
     "text": [
      "Epoch 6/32, Validation Loss: 2.4574\n"
     ]
    },
    {
     "name": "stderr",
     "output_type": "stream",
     "text": [
      "                                                                                \r"
     ]
    },
    {
     "name": "stdout",
     "output_type": "stream",
     "text": [
      "Epoch 7/32, Validation Loss: 2.4784\n"
     ]
    },
    {
     "name": "stderr",
     "output_type": "stream",
     "text": [
      "                                                                                \r"
     ]
    },
    {
     "name": "stdout",
     "output_type": "stream",
     "text": [
      "Epoch 8/32, Validation Loss: 2.4275\n"
     ]
    },
    {
     "name": "stderr",
     "output_type": "stream",
     "text": [
      "                                                                               \r"
     ]
    },
    {
     "name": "stdout",
     "output_type": "stream",
     "text": [
      "Epoch 9/32, Validation Loss: 3.6234\n"
     ]
    },
    {
     "name": "stderr",
     "output_type": "stream",
     "text": [
      "                                                                                 \r"
     ]
    },
    {
     "name": "stdout",
     "output_type": "stream",
     "text": [
      "Epoch 10/32, Validation Loss: 9.2963\n"
     ]
    },
    {
     "name": "stderr",
     "output_type": "stream",
     "text": [
      "                                                                                 \r"
     ]
    },
    {
     "name": "stdout",
     "output_type": "stream",
     "text": [
      "Epoch 11/32, Validation Loss: 5.2612\n",
      "Early stopping at epoch 11\n"
     ]
    },
    {
     "name": "stderr",
     "output_type": "stream",
     "text": [
      "                                                              "
     ]
    },
    {
     "name": "stdout",
     "output_type": "stream",
     "text": [
      "Test Loss: 5.2639, Test Accuracy: 10.00%\n"
     ]
    },
    {
     "name": "stderr",
     "output_type": "stream",
     "text": [
      "\r"
     ]
    }
   ],
   "source": [
    "import torchvision.datasets as datasets\n",
    "import torchvision.models as models\n",
    "import torch.utils.data\n",
    "import torchvision.transforms as transforms\n",
    "import torch.optim as optim\n",
    "import torch.nn as nn\n",
    "import torch\n",
    "import difflib\n",
    "import inspect\n",
    "from tqdm import tqdm\n",
    "import matplotlib.pyplot as plt\n",
    "import numpy as np\n",
    "\n",
    "# Dynamically get a list of all available datasets in torchvision\n",
    "def get_available_datasets():\n",
    "    dataset_classes = []\n",
    "    for name, obj in inspect.getmembers(datasets):\n",
    "        if inspect.isclass(obj) and issubclass(obj, torch.utils.data.Dataset):\n",
    "            dataset_classes.append(name)\n",
    "    return dataset_classes\n",
    "\n",
    "# Dynamically get a list of all available models in torchvision\n",
    "def get_available_models():\n",
    "    model_classes = []\n",
    "    for name, obj in inspect.getmembers(models):\n",
    "        if inspect.isfunction(obj):\n",
    "            model_classes.append(name)\n",
    "    return model_classes\n",
    "\n",
    "available_datasets = get_available_datasets()\n",
    "available_models = get_available_models()\n",
    "\n",
    "# Define a set of transformations, including converting images to tensors\n",
    "transform = transforms.Compose([transforms.ToTensor()])\n",
    "\n",
    "# Function to get dataset with robust error handling\n",
    "def get_dataset(dataset_name, root='./data', batch_size=4, shuffle=True, num_workers=2, train=True):\n",
    "    try:\n",
    "        if dataset_name in available_datasets:\n",
    "            dataset_class = getattr(datasets, dataset_name)\n",
    "            dataset_instance = dataset_class(root=root, download=True, train=train, transform=transform)\n",
    "            data_loader = torch.utils.data.DataLoader(dataset_instance, \n",
    "                                                      batch_size=batch_size, \n",
    "                                                      shuffle=shuffle, \n",
    "                                                      num_workers=num_workers)\n",
    "            print(f\"Successfully loaded {dataset_name} {'train' if train else 'test'} dataset.\")\n",
    "            return data_loader\n",
    "        else:\n",
    "            close_matches = difflib.get_close_matches(dataset_name, available_datasets, n=3)\n",
    "            if close_matches:\n",
    "                print(f\"Dataset '{dataset_name}' not found. Did you mean one of these?\")\n",
    "                for match in close_matches:\n",
    "                    print(f\"  - {match}\")\n",
    "                selected_suggestion = input(f\"Would you like to load the dataset '{close_matches[0]}'? (yes/no): \").lower()\n",
    "                if selected_suggestion == 'yes':\n",
    "                    return get_dataset(close_matches[0], root, batch_size, shuffle, num_workers, train)\n",
    "            else:\n",
    "                print(f\"Dataset '{dataset_name}' not found. No close matches available.\")\n",
    "    except Exception as e:\n",
    "        print(f\"Error loading dataset: {e}\")\n",
    "    return None\n",
    "\n",
    "# Function to get model with robust error handling\n",
    "def get_model(model_name, pretrained=True):\n",
    "    try:\n",
    "        if model_name in available_models:\n",
    "            model_class = getattr(models, model_name)\n",
    "            model_instance = model_class(pretrained=pretrained)\n",
    "            print(f\"Successfully loaded {model_name} model.\")\n",
    "            return model_instance\n",
    "        else:\n",
    "            close_matches = difflib.get_close_matches(model_name, available_models, n=3)\n",
    "            if close_matches:\n",
    "                print(f\"Model '{model_name}' not found. Did you mean one of these?\")\n",
    "                for match in close_matches:\n",
    "                    print(f\"  - {match}\")\n",
    "                selected_suggestion = input(f\"Would you like to load the model '{close_matches[0]}'? (yes/no): \").lower()\n",
    "                if selected_suggestion == 'yes':\n",
    "                    return get_model(close_matches[0], pretrained)\n",
    "            else:\n",
    "                print(f\"Model '{model_name}' not found. No close matches available.\")\n",
    "    except Exception as e:\n",
    "        print(f\"Error loading model: {e}\")\n",
    "    return None\n",
    "\n",
    "# Early stopping function\n",
    "class EarlyStopping:\n",
    "    def __init__(self, patience=5, min_delta=0):\n",
    "        self.patience = patience\n",
    "        self.min_delta = min_delta\n",
    "        self.best_loss = None\n",
    "        self.counter = 0\n",
    "        self.early_stop = False\n",
    "\n",
    "    def __call__(self, val_loss):\n",
    "        if self.best_loss is None:\n",
    "            self.best_loss = val_loss\n",
    "        elif val_loss < self.best_loss - self.min_delta:\n",
    "            self.best_loss = val_loss\n",
    "            self.counter = 0\n",
    "        else:\n",
    "            self.counter += 1\n",
    "            if self.counter >= self.patience:\n",
    "                self.early_stop = True\n",
    "\n",
    "# Training loop with early stopping\n",
    "def train_model(model, train_loader, val_loader, criterion, optimizer, epochs, device, patience, min_delta, verbose=False):\n",
    "    early_stopping = EarlyStopping(patience=patience, min_delta=min_delta)\n",
    "    model = model.to(device)\n",
    "    model.train()\n",
    "\n",
    "    for epoch in range(epochs):\n",
    "        running_loss = 0.0\n",
    "        epoch_iterator = tqdm(train_loader, desc=f\"Epoch {epoch+1}/{epochs}\", leave=False)\n",
    "        \n",
    "        for inputs, labels in epoch_iterator:\n",
    "            inputs, labels = inputs.to(device), labels.to(device)\n",
    "            \n",
    "            # Zero the parameter gradients\n",
    "            optimizer.zero_grad()\n",
    "\n",
    "            # Forward pass\n",
    "            outputs = model(inputs)\n",
    "            loss = criterion(outputs, labels)\n",
    "            \n",
    "            # Backward pass and optimization\n",
    "            loss.backward()\n",
    "            optimizer.step()\n",
    "\n",
    "            running_loss += loss.item()\n",
    "            epoch_iterator.set_postfix({'train_loss': running_loss / (epoch_iterator.n + 1)})\n",
    "\n",
    "        # Evaluate on validation set\n",
    "        val_loss = evaluate_model(model, val_loader, criterion, device, return_loss=True)\n",
    "        print(f\"Epoch {epoch+1}/{epochs}, Validation Loss: {val_loss:.4f}\")\n",
    "\n",
    "        # Check early stopping\n",
    "        early_stopping(val_loss)\n",
    "        if early_stopping.early_stop:\n",
    "            print(f\"Early stopping at epoch {epoch+1}\")\n",
    "            break\n",
    "\n",
    "# Evaluation function\n",
    "def evaluate_model(model, test_loader, criterion, device, return_loss=False):\n",
    "    model = model.to(device)\n",
    "    model.eval()\n",
    "    \n",
    "    running_loss = 0.0\n",
    "    correct = 0\n",
    "    total = 0\n",
    "\n",
    "    with torch.no_grad():\n",
    "        for inputs, labels in tqdm(test_loader, desc=\"Evaluating\", leave=False):\n",
    "            inputs, labels = inputs.to(device), labels.to(device)\n",
    "            \n",
    "            # Forward pass\n",
    "            outputs = model(inputs)\n",
    "            loss = criterion(outputs, labels)\n",
    "            running_loss += loss.item()\n",
    "\n",
    "            # Calculate accuracy\n",
    "            _, predicted = torch.max(outputs, 1)\n",
    "            total += labels.size(0)\n",
    "            correct += (predicted == labels).sum().item()\n",
    "\n",
    "    avg_loss = running_loss / len(test_loader)\n",
    "    accuracy = correct / total * 100\n",
    "    if return_loss:\n",
    "        return avg_loss\n",
    "    print(f\"Test Loss: {avg_loss:.4f}, Test Accuracy: {accuracy:.2f}%\")\n",
    "\n",
    "# Function to display a grid of images from the dataset\n",
    "def show_images(images, labels):\n",
    "    try:\n",
    "        images = images.numpy()\n",
    "        fig, axes = plt.subplots(1, len(images), figsize=(12, 4))\n",
    "        for i, (image, label) in enumerate(zip(images, labels)):\n",
    "            image = np.transpose(image, (1, 2, 0))\n",
    "            image = np.clip(image, 0, 1)\n",
    "            axes[i].imshow(image)\n",
    "            axes[i].set_title(f\"Label: {label}\")\n",
    "            axes[i].axis('off')\n",
    "        plt.show()\n",
    "    except Exception as e:\n",
    "        print(f\"Error displaying images: {e}\")\n",
    "\n",
    "# Main function to select dataset, model, and train\n",
    "def main():\n",
    "    try:\n",
    "        user_input_dataset = input(\"Enter a dataset name from torchvision: \")\n",
    "        batch_size = int(input(\"Enter batch size: \"))\n",
    "        \n",
    "        train_loader = get_dataset(user_input_dataset, batch_size=batch_size, train=True)\n",
    "        test_loader = get_dataset(user_input_dataset, batch_size=batch_size, train=False)\n",
    "\n",
    "        if train_loader:\n",
    "            for images, labels in train_loader:\n",
    "                print(f\"Loaded a batch of size: {len(images)}\")\n",
    "                show_images(images[:4], labels[:4])\n",
    "                break\n",
    "    \n",
    "        user_input_model = input(\"Enter a model name from torchvision: \")\n",
    "        model = get_model(user_input_model)\n",
    "\n",
    "        if model:\n",
    "            print(f\"Model {user_input_model} is ready to be used.\")\n",
    "\n",
    "        epochs = int(input(\"Enter the number of epochs: \"))\n",
    "        learning_rate = float(input(\"Enter the learning rate: \"))\n",
    "        patience = int(input(\"Enter patience for early stopping: \"))\n",
    "        min_delta = float(input(\"Enter minimum delta for improvement: \"))\n",
    "        verbose = input(\"Enable verbose output? (yes/no): \").lower() == 'yes'\n",
    "\n",
    "        device = torch.device(\"cuda\" if torch.cuda.is_available() else \"cpu\")\n",
    "        print(f\"Using device: {device}\")\n",
    "\n",
    "        criterion = nn.CrossEntropyLoss()\n",
    "        optimizer = optim.Adam(model.parameters(), lr=learning_rate)\n",
    "\n",
    "        # Split the test set for validation (you can also create a validation set if needed)\n",
    "        val_loader = test_loader\n",
    "\n",
    "        # Train the model with early stopping\n",
    "        train_model(model, train_loader, val_loader, criterion, optimizer, epochs, device, patience, min_delta, verbose)\n",
    "\n",
    "        # Final evaluation\n",
    "        evaluate_model(model, test_loader, criterion, device)\n",
    "    \n",
    "    except ValueError as ve:\n",
    "        print(f\"Input Error: {ve}\")\n",
    "    except Exception as e:\n",
    "        print(f\"An error occurred: {e}\")\n",
    "\n",
    "# Run the main function\n",
    "if __name__ == '__main__':\n",
    "    main()\n"
   ]
  },
  {
   "cell_type": "code",
   "execution_count": null,
   "id": "cd3f7938-2eb3-48d4-91af-f1215954109d",
   "metadata": {},
   "outputs": [],
   "source": []
  }
 ],
 "metadata": {
  "kernelspec": {
   "display_name": "Python 3 (ipykernel)",
   "language": "python",
   "name": "python3"
  },
  "language_info": {
   "codemirror_mode": {
    "name": "ipython",
    "version": 3
   },
   "file_extension": ".py",
   "mimetype": "text/x-python",
   "name": "python",
   "nbconvert_exporter": "python",
   "pygments_lexer": "ipython3",
   "version": "3.10.13"
  }
 },
 "nbformat": 4,
 "nbformat_minor": 5
}
